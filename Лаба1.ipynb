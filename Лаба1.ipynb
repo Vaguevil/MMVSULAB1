{
  "cells": [
    {
      "cell_type": "markdown",
      "metadata": {
        "id": "view-in-github",
        "colab_type": "text"
      },
      "source": [
        "<a href=\"https://colab.research.google.com/github/OlegZentsov/MMVSULAB1/blob/main/%D0%9B%D0%B0%D0%B1%D0%BE%D1%80%D0%B0%D1%82%D0%BE%D1%80%D0%BD%D0%B0%D1%8F%201.ipynb\" target=\"_parent\"><img src=\"https://colab.research.google.com/assets/colab-badge.svg\" alt=\"Open In Colab\"/></a>"
      ]
    },
    {
      "cell_type": "markdown",
      "source": [
        "Лабораторная работа **№1**\n",
        "\n",
        "\n",
        "\n",
        "\n",
        "*Выполнил студент группы КМА Зенцов Олег*"
      ],
      "metadata": {
        "id": "JegJf3XAXuYx"
      }
    },
    {
      "cell_type": "markdown",
      "source": [
        "#Номер 1\n",
        "$x'$*=kx*"
      ],
      "metadata": {
        "id": "q6r5uDLqe5KR"
      }
    },
    {
      "cell_type": "code",
      "source": [
        "#Номер 1 \n",
        "import matplotlib.pyplot as plt\n",
        "import numpy as np\n",
        "from scipy.integrate import odeint\n",
        "\n",
        "def dydt(x,t):\n",
        "  k=0.42\n",
        "  return k*x\n",
        "\n",
        "t=np.linspace(0,10,100)\n",
        "solve = odeint(dydt, 1, t=t)\n",
        "solve = solve.flatten()\n",
        "%matplotlib inline\n",
        "plt.plot(t,solve,label=r\"$x'=kx$\")\n",
        "plt.grid(True)\n",
        "plt.legend()\n",
        "plt.show()"
      ],
      "metadata": {
        "colab": {
          "base_uri": "https://localhost:8080/",
          "height": 265
        },
        "id": "N7hNcXtSYIuv",
        "outputId": "e4324c72-9e29-4298-976e-7e69daf6301f"
      },
      "execution_count": 17,
      "outputs": [
        {
          "output_type": "display_data",
          "data": {
            "text/plain": [
              "<Figure size 432x288 with 1 Axes>"
            ],
            "image/png": "[encoded data removed]"
          },
          "metadata": {
            "needs_background": "light"
          }
        }
      ]
    },
    {
      "cell_type": "markdown",
      "source": [
        "#Номер 2\n",
        "$x'$*=k(x)x*"
      ],
      "metadata": {
        "id": "ca-erou9e_0R"
      }
    },
    {
      "cell_type": "code",
      "source": [
        "#Номер 2\n",
        "import matplotlib.pyplot as plt\n",
        "import numpy as np\n",
        "from scipy.integrate import odeint\n",
        "\n",
        "def k(x):\n",
        "  a=1\n",
        "  b=1\n",
        "  return a*x-b\n",
        "\n",
        "def dydt(x,t):\n",
        "  return k(x)*x\n",
        "\n",
        "t=np.linspace(0,10,100)\n",
        "solve = odeint(dydt, 1, t=t)\n",
        "solve = solve.flatten()\n",
        "%matplotlib inline\n",
        "plt.plot(t,solve,label=r\"$x'=k(x)*x$\")\n",
        "plt.grid(True)\n",
        "plt.legend()\n",
        "plt.show()"
      ],
      "metadata": {
        "colab": {
          "base_uri": "https://localhost:8080/",
          "height": 265
        },
        "id": "IJ_-p0npZ5sq",
        "outputId": "5092e138-3585-4a30-abe3-8c66157c19c1"
      },
      "execution_count": 18,
      "outputs": [
        {
          "output_type": "display_data",
          "data": {
            "text/plain": [
              "<Figure size 432x288 with 1 Axes>"
            ],
            "image/png": "[encoded data removed]"
          },
          "metadata": {
            "needs_background": "light"
          }
        }
      ]
    },
    {
      "cell_type": "markdown",
      "source": [
        "#Номер 3\n",
        "$x'$*=k(x)x-c*"
      ],
      "metadata": {
        "id": "eVqIIgNFfIPL"
      }
    },
    {
      "cell_type": "code",
      "source": [
        "#Номер 3\n",
        "import matplotlib.pyplot as plt\n",
        "import numpy as np\n",
        "from scipy.integrate import odeint\n",
        "\n",
        "def k(x):\n",
        "  a=1\n",
        "  b=1\n",
        "  return a*x-b\n",
        "\n",
        "def dydt(x,t):\n",
        "  c=1\n",
        "  return k(x)*x-c\n",
        "\n",
        "t=np.linspace(0,10,100)\n",
        "solve = odeint(dydt, 1, t=t)\n",
        "solve = solve.flatten()\n",
        "%matplotlib inline\n",
        "plt.plot(t,solve,label=r\"$x'=k(x)*x-c$\")\n",
        "plt.grid(True)\n",
        "plt.legend()\n",
        "plt.show()"
      ],
      "metadata": {
        "colab": {
          "base_uri": "https://localhost:8080/",
          "height": 265
        },
        "id": "uRzXFMM5a8gv",
        "outputId": "d5cf95ee-a24f-4c9c-ee1c-e1d0180e14df"
      },
      "execution_count": 16,
      "outputs": [
        {
          "output_type": "display_data",
          "data": {
            "text/plain": [
              "<Figure size 432x288 with 1 Axes>"
            ],
            "image/png": "[encoded data removed]"
          },
          "metadata": {
            "needs_background": "light"
          }
        }
      ]
    },
    {
      "cell_type": "markdown",
      "source": [
        "#Номер 4\n",
        "$x'$*=k(x)x-c(x)*"
      ],
      "metadata": {
        "id": "A6V2IACDfN4z"
      }
    },
    {
      "cell_type": "code",
      "source": [
        "#Номер 4\n",
        "import matplotlib.pyplot as plt\n",
        "import numpy as np\n",
        "from scipy.integrate import odeint\n",
        "\n",
        "def k(x):\n",
        "  a=1\n",
        "  b=2\n",
        "  return a*x-b\n",
        "\n",
        "def c(x):\n",
        "  a=5\n",
        "  return a*x\n",
        "\n",
        "def dydt(x,t):\n",
        "  return k(x)*x-c(x)\n",
        "\n",
        "t=np.linspace(0,10,100)\n",
        "solve = odeint(dydt, 1, t=t)\n",
        "solve = solve.flatten()\n",
        "%matplotlib inline\n",
        "plt.plot(t,solve,label=r\"$x'=k(x)*x-c(x)$\")\n",
        "plt.grid(True)\n",
        "plt.legend()\n",
        "plt.show()"
      ],
      "metadata": {
        "colab": {
          "base_uri": "https://localhost:8080/",
          "height": 265
        },
        "id": "hlWBCta0cO2V",
        "outputId": "3751eddf-2e33-4914-e3e9-694c5bda020c"
      },
      "execution_count": 24,
      "outputs": [
        {
          "output_type": "display_data",
          "data": {
            "text/plain": [
              "<Figure size 432x288 with 1 Axes>"
            ],
            "image/png": "[encoded data removed]"
          },
          "metadata": {
            "needs_background": "light"
          }
        }
      ]
    }
  ],
  "metadata": {
    "colab": {
      "name": "Добро пожаловать в Colaboratory!",
      "toc_visible": true,
      "provenance": [],
      "include_colab_link": true
    },
    "kernelspec": {
      "display_name": "Python 3",
      "name": "python3"
    }
  },
  "nbformat": 4,
  "nbformat_minor": 0
}
