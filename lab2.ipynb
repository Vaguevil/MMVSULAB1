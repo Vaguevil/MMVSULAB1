{
  "cells": [
    {
      "cell_type": "markdown",
      "metadata": {
        "id": "view-in-github",
        "colab_type": "text"
      },
      "source": [
        "<a href=\"https://colab.research.google.com/github/Vaguevil/MMVSULAB1/blob/main/lab2.ipynb\" target=\"_parent\"><img src=\"https://colab.research.google.com/assets/colab-badge.svg\" alt=\"Open In Colab\"/></a>"
      ]
    },
    {
      "cell_type": "markdown",
      "source": [
        "Лабораторная работа ***№2***\n",
        "\n",
        "\n",
        "\n",
        "\n",
        "*Выполнил студент группы КМА Некрасов Артем*"
      ],
      "metadata": {
        "id": "JegJf3XAXuYx"
      }
    },
    {
      "cell_type": "markdown",
      "source": [
        "#График населения Екатеринбурга"
      ],
      "metadata": {
        "id": "q6r5uDLqe5KR"
      }
    },
    {
      "cell_type": "code",
      "source": [],
      "metadata": {
        "id": "Jc0fnV7zdKsX"
      },
      "execution_count": null,
      "outputs": []
    },
    {
      "cell_type": "code",
      "source": [
        "import matplotlib.pyplot as plt \n",
        "import pandas as pd\n",
        "from scipy.integrate import odeint \n",
        "\n",
        "\n",
        "data = {'year': [1991, 1992, 1993, 1994, 1995, 1996, 1997, 1998, 1999, 2000, 2001, 2002, 2003],\n",
        "        'pop': [1375000, 1371000, 1358000, 1347000, 1278000, 1276000, 1275000, 1272000, 1272900, 1266300, 1256900, 1293537, 1293500]}\n",
        "df = pd.DataFrame(data)\n",
        "\n",
        "plt.plot(df['year'], df['pop'])\n",
        "\n",
        "plt.xlabel('year')\n",
        "plt.ylabel('pop')\n",
        "plt.title('Population Ekaterinburg')\n",
        "\n",
        "plt.show()"
      ],
      "metadata": {
        "id": "CIqbSK-3b_w9",
        "outputId": "21321abb-f9c8-47db-ea0b-4c1f5d21dc84",
        "colab": {
          "base_uri": "https://localhost:8080/",
          "height": 295
        }
      },
      "execution_count": 1,
      "outputs": [
        {
          "output_type": "display_data",
          "data": {
            "text/plain": [
              "<Figure size 432x288 with 1 Axes>"
            ],
            "image/png": "[encoded data removed]"
          },
          "metadata": {
            "needs_background": "light"
          }
        }
      ]
    },
    {
      "cell_type": "code",
      "source": [],
      "metadata": {
        "id": "pq0Evqe_nX0M"
      },
      "execution_count": null,
      "outputs": []
    }
  ],
  "metadata": {
    "colab": {
      "name": "Добро пожаловать в Colaboratory!",
      "provenance": [],
      "include_colab_link": true
    },
    "kernelspec": {
      "display_name": "Python 3",
      "name": "python3"
    }
  },
  "nbformat": 4,
  "nbformat_minor": 0
}