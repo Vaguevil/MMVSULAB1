def next_y(xi, yi):
    return yi + self.h * self.f(xi, yi)

ys = []
xs = np.arange(x0 + h, xf + h, h)  # вектор всех значений x
for x in xs:
    ys.append(y)
    y = next_y(x, y) # В результате ys будет содержать все значения метода Эйлера
